{
 "cells": [
  {
   "cell_type": "code",
   "execution_count": 4,
   "id": "2336ba60",
   "metadata": {},
   "outputs": [
    {
     "name": "stdout",
     "output_type": "stream",
     "text": [
      "0      1\n",
      "1      2\n",
      "2      3\n",
      "3      6\n",
      "4    ham\n",
      "dtype: object\n"
     ]
    }
   ],
   "source": [
    "#1.write a python program to implement list -to- Series conversion\n",
    "import pandas as pd\n",
    "d = [1,2,3,6]\n",
    "d = pd.Series(d) #this convert the elements in the list to Series\n",
    "print(d)"
   ]
  },
  {
   "cell_type": "code",
   "execution_count": null,
   "id": "7f76e717",
   "metadata": {},
   "outputs": [],
   "source": []
  },
  {
   "cell_type": "code",
   "execution_count": null,
   "id": "50f88481",
   "metadata": {},
   "outputs": [],
   "source": []
  },
  {
   "cell_type": "code",
   "execution_count": 1,
   "id": "da5f12a2",
   "metadata": {},
   "outputs": [
    {
     "name": "stdout",
     "output_type": "stream",
     "text": [
      "2021-05-01\n",
      "2021-05-02\n",
      "2021-05-03\n",
      "2021-05-04\n",
      "2021-05-05\n",
      "2021-05-06\n",
      "2021-05-07\n",
      "2021-05-08\n",
      "2021-05-09\n",
      "2021-05-10\n",
      "2021-05-11\n",
      "2021-05-12\n"
     ]
    }
   ],
   "source": [
    "#2.Write a python program to Generate the series of data from !st may,2021 to 12th may 2021 (both incusive)\n",
    "\n",
    "\n",
    "\n",
    "import pandas as pd\n",
    "\n",
    "sr = pd.Series(pd.date_range('2021-05-01','2021-05-12',freq = 'D'))\n",
    "# To avoid dtype\n",
    "# Series.to_string\n",
    "print(sr.to_string(index=False))\n"
   ]
  },
  {
   "cell_type": "code",
   "execution_count": 4,
   "id": "7864945d",
   "metadata": {},
   "outputs": [
    {
     "name": "stdout",
     "output_type": "stream",
     "text": [
      "   Age Name\n",
      "0   24    a\n",
      "1   25    b\n",
      "2   26    c\n",
      "3   27    d\n"
     ]
    }
   ],
   "source": [
    "\"\"\"\n",
    "3. Given a dictionary, convert it into\n",
    "corresponding dataframe and display it.\n",
    "\"\"\"\n",
    "\n",
    "\n",
    "import pandas as pd\n",
    "\n",
    "details = {\n",
    "    'Name' : ['a','b','c','d'],\n",
    "    'Age' : [24,25,26,27],\n",
    "}\n",
    "  \n",
    "\n",
    "df = pd.DataFrame(details)\n",
    "  \n",
    "print(df)"
   ]
  },
  {
   "cell_type": "code",
   "execution_count": 7,
   "id": "ee245b1c",
   "metadata": {},
   "outputs": [
    {
     "name": "stdout",
     "output_type": "stream",
     "text": [
      "   0  1\n",
      "0  1  2\n",
      "1  3  4\n",
      "2  5  6\n"
     ]
    }
   ],
   "source": [
    "\"\"\"\n",
    "4. Given a 2D List, convert it into corresponding dataframe and display it.\n",
    "\"\"\"\n",
    "\n",
    "\n",
    "import pandas as pd\n",
    "\n",
    "details = [[1,2],[3,4],[5,6]]\n",
    "  \n",
    "df = pd.DataFrame(details)\n",
    "  \n",
    "print(df)"
   ]
  },
  {
   "cell_type": "code",
   "execution_count": 2,
   "id": "05608132",
   "metadata": {},
   "outputs": [
    {
     "name": "stdout",
     "output_type": "stream",
     "text": [
      "  Name  mark\n",
      "0    a     1\n",
      "1    b     2\n",
      "2    c     3\n"
     ]
    }
   ],
   "source": [
    "\"\"\"\n",
    "5. Given a CSV file, read it into a dataframe and display it.\n",
    "\"\"\"\n",
    "\n",
    "\n",
    "import pandas as pd\n",
    "\n",
    "df = pd.read_csv('/home/exam/Mruthul/DS/5_CSV.csv')\n",
    "\n",
    "print(df.to_string()) \n",
    "\n"
   ]
  },
  {
   "cell_type": "code",
   "execution_count": 2,
   "id": "2e24375d",
   "metadata": {},
   "outputs": [
    {
     "name": "stdout",
     "output_type": "stream",
     "text": [
      "   Age Name  Rank\n",
      "0    1    e     0\n",
      "1    2    a     1\n",
      "2    1    a     2\n",
      "3    3    b     3\n",
      "4    3    c     4\n",
      "5    4    d     5\n",
      "SORTED DATAFRAME\n",
      "   Age Name  Rank\n",
      "2    1    a     2\n",
      "1    2    a     1\n",
      "3    3    b     3\n",
      "4    3    c     4\n",
      "5    4    d     5\n",
      "0    1    e     0\n"
     ]
    }
   ],
   "source": [
    "\"\"\"\n",
    "6. Given a dataframe, sort it by multiple columns.\n",
    "\"\"\"\n",
    "\n",
    "\n",
    "import pandas as pd\n",
    "\n",
    "df = pd.DataFrame({'Name': ['e','a','a','b','c','d'],\n",
    "                   'Age': [1,2,1,3,3,4],\n",
    "                   'Rank': [0,1,2,3,4,5]})\n",
    "\n",
    "print(df.to_string())\n",
    "\n",
    "print('SORTED DATAFRAME')\n",
    "df = df.sort_values(by=['Name','Age'], ascending=[True,True])\n",
    "\n",
    "print(df.to_string())"
   ]
  },
  {
   "cell_type": "code",
   "execution_count": 10,
   "id": "a543cb23",
   "metadata": {},
   "outputs": [
    {
     "name": "stdout",
     "output_type": "stream",
     "text": [
      "    Age Name  Rank\n",
      "b1    1    e     0\n",
      "f1    2    a     1\n",
      "e1    1    a     2\n",
      "d1    3    b     3\n",
      "a1    3    c     4\n",
      "c1    4    d     5\n",
      "   Age Name  Rank\n",
      "0    1    e     0\n",
      "1    2    a     1\n",
      "2    1    a     2\n",
      "3    3    b     3\n",
      "4    3    c     4\n",
      "5    4    d     5\n"
     ]
    }
   ],
   "source": [
    "\"\"\"\n",
    "7. Given a dataframe with custom indexing,\n",
    "   convert and it to default indexing and \n",
    "   display it.\n",
    "\"\"\"\n",
    "\n",
    "\n",
    "import pandas as pd\n",
    "\n",
    "data = {'Name': ['e','a','a','b','c','d'],\n",
    "                   'Age': [1,2,1,3,3,4],\n",
    "                   'Rank': [0,1,2,3,4,5]}\n",
    "\n",
    "index = {'a1', 'b1', 'c1', 'd1', 'e1','f1'}\n",
    "\n",
    "df = pd.DataFrame(data,index)\n",
    "#df.reset_index(inplace = True)\n",
    "print(df.to_string())\n",
    "df.reset_index(inplace = True, drop = True)\n",
    "print(df.to_string())"
   ]
  },
  {
   "cell_type": "code",
   "execution_count": 11,
   "id": "267686a4",
   "metadata": {},
   "outputs": [
    {
     "name": "stdout",
     "output_type": "stream",
     "text": [
      "   Age Name\n",
      "0   24    a\n",
      "1   25    b\n"
     ]
    }
   ],
   "source": [
    "\"\"\"\n",
    "8. Given a dataframe, select first 2 rows and output them.\n",
    "\"\"\"\n",
    "\n",
    "\n",
    "import pandas as pd\n",
    "\n",
    "details = {\n",
    "    'Name' : ['a','b','c','d'],\n",
    "    'Age' : [24,25,26,27],\n",
    "}\n",
    "  \n",
    "\n",
    "df = pd.DataFrame(details)\n",
    "  \n",
    "print(df[:2])"
   ]
  },
  {
   "cell_type": "code",
   "execution_count": 4,
   "id": "06c1daf9",
   "metadata": {},
   "outputs": [
    {
     "name": "stdout",
     "output_type": "stream",
     "text": [
      "  Name Occupation  Salary\n",
      "0    a         A1      20\n",
      "1    b         A1      30\n",
      "2    c         A1      40\n",
      "3    d         B1      27\n",
      "4    e         B1      23\n",
      "Average salary per occupation : \n",
      "Occupation\n",
      "A1    30\n",
      "B1    25\n",
      "Name: Salary, dtype: int64\n"
     ]
    }
   ],
   "source": [
    "\"\"\"\n",
    "9. Given is a dataframe showing name, occupation,\n",
    "   salary of people. Find the average \n",
    "   salary per occupation.\n",
    "\"\"\"\n",
    "\n",
    "\n",
    "import pandas as pd\n",
    "\n",
    "details = {\n",
    "    'Name' : ['a','b','c','d','e'],\n",
    "    'Occupation' : ['A1','A1','A1','B1','B1'],\n",
    "    'Salary' : [20,30,40,27,23],\n",
    "}\n",
    "  \n",
    "\n",
    "df = pd.DataFrame(details)\n",
    "print(df)\n",
    "occ_average_age = df.groupby('Occupation')['Salary'].mean()\n",
    "print(\"Average salary per occupation : \")\n",
    "print(occ_average_age)"
   ]
  },
  {
   "cell_type": "code",
   "execution_count": 5,
   "id": "bea37ef4",
   "metadata": {},
   "outputs": [
    {
     "name": "stdout",
     "output_type": "stream",
     "text": [
      "   Set_of_Numbers\n",
      "0             2.0\n",
      "1             3.0\n",
      "2             5.0\n",
      "3             7.0\n",
      "4            11.0\n",
      "5            13.0\n",
      "6             0.0\n",
      "7            19.0\n",
      "8            23.0\n",
      "9             0.0\n"
     ]
    }
   ],
   "source": [
    "\"\"\"\n",
    "10. Given a dataframe with NaN Values, fill the NaN values with 0.\n",
    "\"\"\"\n",
    "\n",
    "\n",
    "import pandas as pd\n",
    "import numpy as np\n",
    "\n",
    "nums = {'Set_of_Numbers': [2, 3, 5, 7, 11, 13,np.nan, 19, 23, np.nan]}\n",
    "df = pd.DataFrame(nums, columns =['Set_of_Numbers'])\n",
    "df['Set_of_Numbers'] = df['Set_of_Numbers'].fillna(0)\n",
    "print(df)"
   ]
  },
  {
   "cell_type": "code",
   "execution_count": 6,
   "id": "4ac7aa73",
   "metadata": {},
   "outputs": [
    {
     "name": "stdout",
     "output_type": "stream",
     "text": [
      "  cname profit\n",
      "0     a   True\n",
      "1     b   True\n",
      "2     c  False\n",
      "3     d  False\n"
     ]
    }
   ],
   "source": [
    "\"\"\"\n",
    "11. Given is a dataframe showing Company Names (cname) and corresponding Profits \n",
    "(profit). Convert the values of Profit column such that values in it greater than 0 are \n",
    "set to True and the rest are set to False.\n",
    "\"\"\"\n",
    "\n",
    "\n",
    "import pandas as pd\n",
    "\n",
    "details = {\n",
    "    'cname' : ['a','b','c','d'],\n",
    "    'profit' : [24,25,0,-27],\n",
    "}\n",
    "\n",
    "df = pd.DataFrame(details)\n",
    "\n",
    "df.loc[df.profit <= 0,'profit'] = False\n",
    "df.loc[df.profit > 0,'profit'] = True\n",
    "print(df)\n",
    "\n",
    "#df['profit'] = df['profit'].apply(lambda x:x>0)\n",
    "#print(df)"
   ]
  },
  {
   "cell_type": "code",
   "execution_count": 7,
   "id": "c0d563a2",
   "metadata": {},
   "outputs": [
    {
     "name": "stdout",
     "output_type": "stream",
     "text": [
      "   eid ename  stipend designation\n",
      "0    1     a      123          aa\n",
      "1    2     b      131          bb\n",
      "2    3     c       23          cc\n",
      "3    4     d      434          dd\n"
     ]
    }
   ],
   "source": [
    "\"\"\"\n",
    "12. Given are 2 dataframes, with one dataframe containing Employee ID (eid), Employee \n",
    "Name (ename) and Stipend (stipend) and the other dataframe containing Employee ID \n",
    "(eid) and designation of the employee (designation). Output the Dataframe containing \n",
    "Employee ID (eid), Employee Name (ename), Stipend (stipend) and Position \n",
    "(position).\n",
    "\"\"\"\n",
    "\n",
    "\n",
    "import pandas as pd\n",
    "\n",
    "details_1 = {\n",
    "    'eid' : [1,2,3,4],\n",
    "    'ename' : ['a','b','c','d'],\n",
    "    'stipend':[123,131,23,434],\n",
    "}\n",
    "\n",
    "details_2 = {\n",
    "    'eid' : [1,2,3,4],\n",
    "    'designation' : ['aa','bb','cc','dd'],\n",
    "}\n",
    "\n",
    "df_1 = pd.DataFrame(details_1)\n",
    "df_2 = pd.DataFrame(details_2)\n",
    "\n",
    "dataframe = pd.merge(df_1, df_2, how = 'inner', on = 'eid')\n",
    "print(dataframe)"
   ]
  },
  {
   "cell_type": "code",
   "execution_count": null,
   "id": "8f661c78",
   "metadata": {},
   "outputs": [],
   "source": []
  }
 ],
 "metadata": {
  "kernelspec": {
   "display_name": "Python 3",
   "language": "python",
   "name": "python3"
  },
  "language_info": {
   "codemirror_mode": {
    "name": "ipython",
    "version": 3
   },
   "file_extension": ".py",
   "mimetype": "text/x-python",
   "name": "python",
   "nbconvert_exporter": "python",
   "pygments_lexer": "ipython3",
   "version": "3.5.6"
  }
 },
 "nbformat": 4,
 "nbformat_minor": 5
}
