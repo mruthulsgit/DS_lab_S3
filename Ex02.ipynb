{
 "cells": [
  {
   "cell_type": "code",
   "execution_count": 1,
   "id": "7512b339",
   "metadata": {},
   "outputs": [
    {
     "name": "stdout",
     "output_type": "stream",
     "text": [
      "a <class 'numpy.ndarray'>\n",
      "[[1 2]\n",
      " [3 4]]\n",
      "\n",
      "b <class 'numpy.ndarray'>\n",
      "[[ 5  6  7]\n",
      " [ 8  9 10]]\n",
      "\n",
      "c <class 'numpy.matrix'>\n",
      "[[1 2]\n",
      " [3 4]]\n",
      "\n",
      "d <class 'numpy.matrix'>\n",
      "[[ 5  6  7]\n",
      " [ 8  9 10]]\n",
      "\n",
      "dot product of two ndarray objects\n",
      "[[21 24 27]\n",
      " [47 54 61]]\n",
      "\n",
      "dot product of two matrix objects\n",
      "[[21 24 27]\n",
      " [47 54 61]]\n"
     ]
    }
   ],
   "source": [
    "import numpy as np\n",
    "\n",
    "a = np.array([[1, 2], [3, 4]])\n",
    "b = np.array([[5, 6, 7], [8, 9, 10]])\n",
    "print(\"a\", type(a))\n",
    "print(a)\n",
    "print(\"\\nb\", type(b))\n",
    "print(b)\n",
    "\n",
    "c = np.matrix([[1, 2], [3, 4]])\n",
    "d = np.matrix([[5, 6, 7], [8, 9, 10]])\n",
    "print(\"\\nc\", type(c))\n",
    "print(c)\n",
    "print(\"\\nd\", type(d))\n",
    "print(d)\n",
    "print(\"\\ndot product of two ndarray objects\")\n",
    "print(np.dot(a, b))\n",
    "print(\"\\ndot product of two matrix objects\")\n",
    "print(np.dot(c, d))\n"
   ]
  },
  {
   "cell_type": "code",
   "execution_count": null,
   "id": "1ec4385d",
   "metadata": {},
   "outputs": [],
   "source": []
  }
 ],
 "metadata": {
  "kernelspec": {
   "display_name": "Python 3 (ipykernel)",
   "language": "python",
   "name": "python3"
  },
  "language_info": {
   "codemirror_mode": {
    "name": "ipython",
    "version": 3
   },
   "file_extension": ".py",
   "mimetype": "text/x-python",
   "name": "python",
   "nbconvert_exporter": "python",
   "pygments_lexer": "ipython3",
   "version": "3.9.12"
  }
 },
 "nbformat": 4,
 "nbformat_minor": 5
}
